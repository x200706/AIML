{
  "nbformat": 4,
  "nbformat_minor": 0,
  "metadata": {
    "colab": {
      "provenance": [],
      "toc_visible": true,
      "gpuType": "T4",
      "authorship_tag": "ABX9TyMaFTdF+q0zFBqfITXQRFWj",
      "include_colab_link": true
    },
    "kernelspec": {
      "name": "python3",
      "display_name": "Python 3"
    },
    "language_info": {
      "name": "python"
    },
    "accelerator": "GPU"
  },
  "cells": [
    {
      "cell_type": "markdown",
      "metadata": {
        "id": "view-in-github",
        "colab_type": "text"
      },
      "source": [
        "<a href=\"https://colab.research.google.com/github/x200706/AIML/blob/main/ML/Hello_Tensorflow.ipynb\" target=\"_parent\"><img src=\"https://colab.research.google.com/assets/colab-badge.svg\" alt=\"Open In Colab\"/></a>"
      ]
    },
    {
      "cell_type": "code",
      "execution_count": 1,
      "metadata": {
        "colab": {
          "base_uri": "https://localhost:8080/"
        },
        "id": "ekH1X3KxVGla",
        "outputId": "8274e387-bc2e-41d9-f8d2-44391440758a"
      },
      "outputs": [
        {
          "output_type": "stream",
          "name": "stderr",
          "text": [
            "WARNING:tensorflow:From <ipython-input-1-f63d41ff54aa>:5: is_gpu_available (from tensorflow.python.framework.test_util) is deprecated and will be removed in a future version.\n",
            "Instructions for updating:\n",
            "Use `tf.config.list_physical_devices('GPU')` instead.\n"
          ]
        },
        {
          "output_type": "stream",
          "name": "stdout",
          "text": [
            "2.18.0\n",
            "[PhysicalDevice(name='/physical_device:GPU:0', device_type='GPU')]\n",
            "GPU在嗎？True\n"
          ]
        }
      ],
      "source": [
        "# !pip list\n",
        "import tensorflow as tf\n",
        "print(tf.__version__)\n",
        "print(tf.config.list_physical_devices('GPU')) # Colab->執行階段->硬體加速器改為GPU\n",
        "print(f\"GPU在嗎？{tf.test.is_gpu_available()}\") # 舊版方法，推薦用上者\n",
        "# Python物件導向小知識：如果你print到f.test.is_gpu_available，你會得到這個def成員的記憶體位置"
      ]
    },
    {
      "cell_type": "markdown",
      "source": [
        "- [一些tf方法](https://ithelp.ithome.com.tw/articles/10216686)\n",
        "  - `tf.constant()`是一個可放置常數的地方"
      ],
      "metadata": {
        "id": "v-PeMdboXyiA"
      }
    }
  ]
}