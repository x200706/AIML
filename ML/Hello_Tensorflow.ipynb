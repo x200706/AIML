{
  "nbformat": 4,
  "nbformat_minor": 0,
  "metadata": {
    "colab": {
      "provenance": [],
      "toc_visible": true,
      "authorship_tag": "ABX9TyMl1ycTC8Jp7Fj3Hwcg7+Y+",
      "include_colab_link": true
    },
    "kernelspec": {
      "name": "python3",
      "display_name": "Python 3"
    },
    "language_info": {
      "name": "python"
    }
  },
  "cells": [
    {
      "cell_type": "markdown",
      "metadata": {
        "id": "view-in-github",
        "colab_type": "text"
      },
      "source": [
        "<a href=\"https://colab.research.google.com/github/x200706/AIML/blob/main/ML/Hello_Tensorflow.ipynb\" target=\"_parent\"><img src=\"https://colab.research.google.com/assets/colab-badge.svg\" alt=\"Open In Colab\"/></a>"
      ]
    },
    {
      "cell_type": "code",
      "execution_count": 9,
      "metadata": {
        "colab": {
          "base_uri": "https://localhost:8080/"
        },
        "id": "ekH1X3KxVGla",
        "outputId": "09a9807d-db17-4cac-97e3-75fe0fe10f7c"
      },
      "outputs": [
        {
          "output_type": "stream",
          "name": "stdout",
          "text": [
            "2.18.0\n",
            "[]\n",
            "GPU在嗎？False\n"
          ]
        }
      ],
      "source": [
        "# !pip list\n",
        "import tensorflow as tf\n",
        "print(tf.__version__)\n",
        "print(tf.config.list_physical_devices('GPU')) # 在Colab列不出來\n",
        "print(f\"GPU在嗎？{tf.test.is_gpu_available()}\") # 舊版方法，推薦用上者\n",
        "# Python物件導向小知識：如果你print到f.test.is_gpu_available，你會得到這個def成員的記憶體位置"
      ]
    },
    {
      "cell_type": "markdown",
      "source": [
        "- [一些tf方法](https://ithelp.ithome.com.tw/articles/10216686)\n",
        "  - `tf.constant()`是一個可放置常數的地方"
      ],
      "metadata": {
        "id": "v-PeMdboXyiA"
      }
    },
    {
      "cell_type": "code",
      "source": [],
      "metadata": {
        "id": "jPXuQIYHXy30"
      },
      "execution_count": null,
      "outputs": []
    }
  ]
}