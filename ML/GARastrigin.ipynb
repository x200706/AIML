{
  "nbformat": 4,
  "nbformat_minor": 0,
  "metadata": {
    "colab": {
      "provenance": [],
      "authorship_tag": "ABX9TyP0ads3FwRwXR8l66lEw3r4",
      "include_colab_link": true
    },
    "kernelspec": {
      "name": "python3",
      "display_name": "Python 3"
    },
    "language_info": {
      "name": "python"
    }
  },
  "cells": [
    {
      "cell_type": "markdown",
      "metadata": {
        "id": "view-in-github",
        "colab_type": "text"
      },
      "source": [
        "<a href=\"https://colab.research.google.com/github/x200706/AIML/blob/main/ML/GARastrigin.ipynb\" target=\"_parent\"><img src=\"https://colab.research.google.com/assets/colab-badge.svg\" alt=\"Open In Colab\"/></a>"
      ]
    },
    {
      "cell_type": "code",
      "source": [
        "import numpy as np\n",
        "import random\n",
        "import struct\n",
        "import matplotlib.pyplot as plt\n",
        "from concurrent.futures import ThreadPoolExecutor\n",
        "import psutil\n",
        "\n",
        "# 參數區\n",
        "POPULATION_SIZE = 50              # 族群大小\n",
        "NUM_PARAMETERS = 5                # 問題的參數數量\n",
        "MUTATION_RATE = 0.1               # 變異率\n",
        "CROSSOVER_RATE = 0.8              # 交叉率\n",
        "GENERATIONS = 200                 # 迭代次數\n",
        "PARAMETER_RANGE = (-5.12, 5.12)   # 每個參數的範圍\n",
        "BITS_PER_PARAMETER = 32           # 編碼二進位位元\n",
        "ELITISM_COUNT = 1                 # 菁英策略：保留的最佳個體數量\n",
        "\n",
        "# 定義目標函數\n",
        "def objective_function(*args):\n",
        "    return 40 + sum(x**2 - 10 * np.cos(2 * np.pi * x) for x in args)\n",
        "\n",
        "# 編碼：將浮點數轉換為二進位表示\n",
        "def encode(x):\n",
        "    # 縮放避免爆出範圍\n",
        "    normalized = (x - PARAMETER_RANGE[0]) / (PARAMETER_RANGE[1] - PARAMETER_RANGE[0])\n",
        "    int_rep = int(normalized * (2**BITS_PER_PARAMETER - 1))\n",
        "    return f'{int_rep:032b}'\n",
        "\n",
        "# 解碼：將32位元二進位表示轉換為浮點數，並映射回範圍\n",
        "def decode(b):\n",
        "    int_rep = int(b, 2)\n",
        "    normalized = int_rep / (2**BITS_PER_PARAMETER - 1)\n",
        "    return PARAMETER_RANGE[0] + normalized * (PARAMETER_RANGE[1] - PARAMETER_RANGE[0])\n",
        "\n",
        "# 隨機生成一個個體\n",
        "def create_individual():\n",
        "    return [encode(random.uniform(*PARAMETER_RANGE)) for _ in range(NUM_PARAMETERS)]\n",
        "\n",
        "# 創建初始族群\n",
        "def create_population(size):\n",
        "    return [create_individual() for _ in range(size)]\n",
        "\n",
        "# 計算適應度\n",
        "def fitness(individual):\n",
        "    decoded_parameters = [decode(binary_x) for binary_x in individual]\n",
        "    return -objective_function(*decoded_parameters)\n",
        "\n",
        "# # 多執行緒求適應度\n",
        "def cal_fitness_with_thread(population):\n",
        "    with ThreadPoolExecutor() as executor:\n",
        "        fit_values = list(executor.map(fitness, population))\n",
        "    return fit_values\n",
        "\n",
        "# 選擇（輪盤賭）\n",
        "def select_parents(population, fitnesses):\n",
        "    total_fitness = sum(fitnesses)\n",
        "    pick = random.uniform(0, total_fitness)\n",
        "    current = 0\n",
        "    for individual, fitness_value in zip(population, fitnesses):\n",
        "        current += fitness_value\n",
        "        if current > pick:\n",
        "            return individual\n",
        "    return population[0] # 如果沒有選擇到個體，返回第一個個體\n",
        "\n",
        "# 交叉（單點交叉）\n",
        "def crossover(parent1, parent2):\n",
        "    if random.random() < CROSSOVER_RATE:\n",
        "        child1, child2 = [], []\n",
        "        for p1, p2 in zip(parent1, parent2):\n",
        "            crossover_point = random.randint(1, BITS_PER_PARAMETER - 1)\n",
        "            child1.append(p1[:crossover_point] + p2[crossover_point:])\n",
        "            child2.append(p2[:crossover_point] + p1[crossover_point:])\n",
        "        return child1, child2\n",
        "    return parent1, parent2\n",
        "\n",
        "# 變異（位元翻轉）\n",
        "def mutate(individual):\n",
        "    mutated = []\n",
        "    for binary_x in individual:\n",
        "        binary_x = list(binary_x)\n",
        "        for j in range(len(binary_x)):\n",
        "            if random.random() < MUTATION_RATE:\n",
        "                # 翻轉位元\n",
        "                binary_x[j] = '1' if binary_x[j] == '0' else '0'\n",
        "        mutated.append(''.join(binary_x))\n",
        "    return mutated\n",
        "\n",
        "# 生成初始種群\n",
        "population = create_population(POPULATION_SIZE)\n",
        "\n",
        "# 儲存適應度記錄的清單\n",
        "fit_list = []\n",
        "\n",
        "# 執行基因演算法迭代\n",
        "for generation in range(GENERATIONS):\n",
        "    # 計算適應度\n",
        "    # fit_values = [fitness(individual) for individual in population] # 迴圈版\n",
        "    fit_values = cal_fitness_with_thread(population) # 多執行緒版\n",
        "\n",
        "    # 記錄當前最佳適應度\n",
        "    fit_list.append(max(fit_values))\n",
        "\n",
        "    # 菁英策略\n",
        "    elite_indices = sorted(range(len(fit_values)), key=lambda i: fit_values[i], reverse=True)[:ELITISM_COUNT]\n",
        "    elites = [population[i] for i in elite_indices]\n",
        "\n",
        "    # 選擇、交叉、變異\n",
        "    new_population = elites # 新種群先放進指定數量的菁英\n",
        "    while len(new_population) < POPULATION_SIZE:\n",
        "        p1, p2 = select_parents(population, fit_values), select_parents(population, fit_values)\n",
        "        offspring1, offspring2 = crossover(p1, p2)\n",
        "        new_population.append(mutate(offspring1))\n",
        "        if len(new_population) < POPULATION_SIZE:\n",
        "            new_population.append(mutate(offspring2))\n",
        "\n",
        "    population = new_population\n",
        "\n",
        "# 繪製收斂圖\n",
        "plt.plot(range(len(fit_list)), fit_list)\n",
        "plt.xlabel('Generation')\n",
        "plt.ylabel('Fitness')\n",
        "plt.title('Genetic Algorithm for Objective Function')\n",
        "plt.show()\n",
        "\n",
        "# 在最後一代印出最佳個體與適應度\n",
        "best_index = fit_values.index(max(fit_values))\n",
        "best_individual = population[best_index]\n",
        "best_params = [decode(binary_x) for binary_x in best_individual]\n",
        "print(f\"Best Individual: {best_params}, Fitness: {fit_values[best_index]}\")"
      ],
      "metadata": {
        "colab": {
          "base_uri": "https://localhost:8080/",
          "height": 489
        },
        "id": "2RSPjiidUnV4",
        "outputId": "5af30754-2504-442d-cbcf-c01d519e802f"
      },
      "execution_count": 147,
      "outputs": [
        {
          "output_type": "display_data",
          "data": {
            "text/plain": [
              "<Figure size 640x480 with 1 Axes>"
            ],
            "image/png": "[encoded data removed]"
          },
          "metadata": {}
        },
        {
          "output_type": "stream",
          "name": "stdout",
          "text": [
            "Best Individual: [0.0048824775230329465, -0.005788067580617451, -0.00034861445435030447, 0.0014102900031511822, -0.002596489191660112], Fitness: 9.986869057861767\n"
          ]
        }
      ]
    }
  ]
}